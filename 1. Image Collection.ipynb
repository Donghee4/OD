{
 "cells": [
  {
   "cell_type": "markdown",
   "metadata": {},
   "source": [
    "# 1. Import Dependencies"
   ]
  },
  {
   "cell_type": "code",
   "execution_count": 2,
   "metadata": {},
   "outputs": [
    {
     "name": "stdout",
     "output_type": "stream",
     "text": [
      "Requirement already satisfied: opencv-python in c:\\users\\tony\\desktop\\projects\\object detection\\tfodcourse\\tfod\\lib\\site-packages (4.5.5.62)\n",
      "Requirement already satisfied: numpy>=1.14.5 in c:\\users\\tony\\desktop\\projects\\object detection\\tfodcourse\\tfod\\lib\\site-packages (from opencv-python) (1.22.0)\n"
     ]
    }
   ],
   "source": [
    "!pip install opencv-python"
   ]
  },
  {
   "cell_type": "code",
   "execution_count": 3,
   "metadata": {},
   "outputs": [],
   "source": [
    "# Import opencv\n",
    "import cv2 \n",
    "\n",
    "# Import uuid\n",
    "import uuid\n",
    "\n",
    "# Import Operating System\n",
    "import os\n",
    "\n",
    "# Import time\n",
    "import time"
   ]
  },
  {
   "cell_type": "markdown",
   "metadata": {},
   "source": [
    "# 2. Define Images to Collect"
   ]
  },
  {
   "cell_type": "code",
   "execution_count": 4,
   "metadata": {},
   "outputs": [],
   "source": [
    "labels = ['thumbsup', 'thumbsdown', 'thankyou', 'livelong']\n",
    "number_imgs = 5\n",
    "labels = ['livelong']"
   ]
  },
  {
   "cell_type": "markdown",
   "metadata": {},
   "source": [
    "# 3. Setup Folders "
   ]
  },
  {
   "cell_type": "code",
   "execution_count": 5,
   "metadata": {},
   "outputs": [],
   "source": [
    "IMAGES_PATH = os.path.join('Tensorflow', 'workspace', 'images', 'collectedimages')"
   ]
  },
  {
   "cell_type": "code",
   "execution_count": 6,
   "metadata": {},
   "outputs": [
    {
     "data": {
      "text/plain": [
       "'Tensorflow\\\\workspace\\\\images\\\\collectedimages'"
      ]
     },
     "execution_count": 6,
     "metadata": {},
     "output_type": "execute_result"
    }
   ],
   "source": [
    "IMAGES_PATH"
   ]
  },
  {
   "cell_type": "code",
   "execution_count": 7,
   "metadata": {},
   "outputs": [
    {
     "data": {
      "text/plain": [
       "'nt'"
      ]
     },
     "execution_count": 7,
     "metadata": {},
     "output_type": "execute_result"
    }
   ],
   "source": [
    "os.name"
   ]
  },
  {
   "cell_type": "code",
   "execution_count": 8,
   "metadata": {},
   "outputs": [],
   "source": [
    "if not os.path.exists(IMAGES_PATH):\n",
    "    if os.name == 'posix':\n",
    "        !mkdir -p {IMAGES_PATH}\n",
    "    if os.name == 'nt':\n",
    "         !mkdir {IMAGES_PATH}\n",
    "for label in labels:\n",
    "    path = os.path.join(IMAGES_PATH, label)\n",
    "    if not os.path.exists(path):\n",
    "        !mkdir {path}"
   ]
  },
  {
   "cell_type": "markdown",
   "metadata": {},
   "source": [
    "# 4. Capture Images"
   ]
  },
  {
   "cell_type": "code",
   "execution_count": 16,
   "metadata": {},
   "outputs": [
    {
     "name": "stdout",
     "output_type": "stream",
     "text": [
      "Collecting images for livelong\n",
      "Collecting image 0\n",
      "Collecting image 1\n",
      "Collecting image 2\n",
      "Collecting image 3\n",
      "Collecting image 4\n"
     ]
    }
   ],
   "source": [
    "for label in labels:\n",
    "    cap = cv2.VideoCapture(0) #connect to our webcam or capture device\n",
    "    print('Collecting images for {}'.format(label))\n",
    "    time.sleep(5)\n",
    "    for imgnum in range(number_imgs):\n",
    "        print('Collecting image {}'.format(imgnum))\n",
    "        ret, frame = cap.read()\n",
    "        imgname = os.path.join(IMAGES_PATH,label,label+'.'+'{}.jpg'.format(str(uuid.uuid1())))\n",
    "        cv2.imwrite(imgname, frame)\n",
    "        cv2.imshow('frame', frame)\n",
    "        time.sleep(2)\n",
    "\n",
    "        if cv2.waitKey(1) & 0xFF == ord('q'):\n",
    "            break\n",
    "cap.release()\n",
    "cv2.destroyAllWindows()"
   ]
  },
  {
   "cell_type": "markdown",
   "metadata": {},
   "source": [
    "# 5. Image Labelling"
   ]
  },
  {
   "cell_type": "code",
   "execution_count": 8,
   "metadata": {},
   "outputs": [
    {
     "name": "stdout",
     "output_type": "stream",
     "text": [
      "Collecting pyqt5\n",
      "  Downloading PyQt5-5.15.6-cp36-abi3-win_amd64.whl (6.7 MB)\n",
      "Collecting lxml\n",
      "  Downloading lxml-4.7.1-cp39-cp39-win_amd64.whl (3.7 MB)\n",
      "Collecting PyQt5-sip<13,>=12.8\n",
      "  Downloading PyQt5_sip-12.9.0-cp39-cp39-win_amd64.whl (63 kB)\n",
      "Collecting PyQt5-Qt5>=5.15.2\n",
      "  Downloading PyQt5_Qt5-5.15.2-py3-none-win_amd64.whl (50.1 MB)\n",
      "Installing collected packages: PyQt5-sip, PyQt5-Qt5, pyqt5, lxml\n",
      "Successfully installed PyQt5-Qt5-5.15.2 PyQt5-sip-12.9.0 lxml-4.7.1 pyqt5-5.15.6\n"
     ]
    }
   ],
   "source": [
    "!pip install --upgrade pyqt5 lxml"
   ]
  },
  {
   "cell_type": "code",
   "execution_count": 9,
   "metadata": {},
   "outputs": [
    {
     "name": "stdout",
     "output_type": "stream",
     "text": [
      "Package              Version\n",
      "-------------------- --------\n",
      "argon2-cffi          21.3.0\n",
      "argon2-cffi-bindings 21.2.0\n",
      "attrs                21.4.0\n",
      "backcall             0.2.0\n",
      "bleach               4.1.0\n",
      "cffi                 1.15.0\n",
      "colorama             0.4.4\n",
      "debugpy              1.5.1\n",
      "decorator            5.1.0\n",
      "defusedxml           0.7.1\n",
      "entrypoints          0.3\n",
      "ipykernel            6.6.1\n",
      "ipython              7.31.0\n",
      "ipython-genutils     0.2.0\n",
      "jedi                 0.18.1\n",
      "Jinja2               3.0.3\n",
      "jsonschema           4.3.3\n",
      "jupyter-client       7.1.0\n",
      "jupyter-core         4.9.1\n",
      "jupyterlab-pygments  0.1.2\n",
      "lxml                 4.7.1\n",
      "MarkupSafe           2.0.1\n",
      "matplotlib-inline    0.1.3\n",
      "mistune              0.8.4\n",
      "nbclient             0.5.9\n",
      "nbconvert            6.4.0\n",
      "nbformat             5.1.3\n",
      "nest-asyncio         1.5.4\n",
      "notebook             6.4.6\n",
      "numpy                1.22.0\n",
      "opencv-python        4.5.5.62\n",
      "packaging            21.3\n",
      "pandocfilters        1.5.0\n",
      "parso                0.8.3\n",
      "pickleshare          0.7.5\n",
      "pip                  21.3.1\n",
      "prometheus-client    0.12.0\n",
      "prompt-toolkit       3.0.24\n",
      "pycparser            2.21\n",
      "Pygments             2.11.1\n",
      "pyparsing            3.0.6\n",
      "PyQt5                5.15.6\n",
      "PyQt5-Qt5            5.15.2\n",
      "PyQt5-sip            12.9.0\n",
      "pyrsistent           0.18.0\n",
      "python-dateutil      2.8.2\n",
      "pywin32              303\n",
      "pywinpty             1.1.6\n",
      "pyzmq                22.3.0\n",
      "Send2Trash           1.8.0\n",
      "setuptools           58.1.0\n",
      "six                  1.16.0\n",
      "terminado            0.12.1\n",
      "testpath             0.5.0\n",
      "tornado              6.1\n",
      "traitlets            5.1.1\n",
      "wcwidth              0.2.5\n",
      "webencodings         0.5.1\n"
     ]
    }
   ],
   "source": [
    "!pip list"
   ]
  },
  {
   "cell_type": "code",
   "execution_count": 9,
   "metadata": {},
   "outputs": [],
   "source": [
    "LABELIMG_PATH = os.path.join('Tensorflow', 'labelimg')"
   ]
  },
  {
   "cell_type": "code",
   "execution_count": 11,
   "metadata": {},
   "outputs": [
    {
     "name": "stderr",
     "output_type": "stream",
     "text": [
      "Cloning into 'Tensorflow\\labelimg'...\n"
     ]
    }
   ],
   "source": [
    "if not os.path.exists(LABELIMG_PATH):\n",
    "    !mkdir {LABELIMG_PATH}\n",
    "    !git clone https://github.com/tzutalin/labelImg {LABELIMG_PATH}"
   ]
  },
  {
   "cell_type": "code",
   "execution_count": 12,
   "metadata": {},
   "outputs": [],
   "source": [
    "if os.name == 'posix':\n",
    "    !make qt5py3\n",
    "if os.name =='nt':\n",
    "    !cd {LABELIMG_PATH} && pyrcc5 -o libs/resources.py resources.qrc"
   ]
  },
  {
   "cell_type": "code",
   "execution_count": 10,
   "metadata": {},
   "outputs": [
    {
     "name": "stdout",
     "output_type": "stream",
     "text": [
      "Image:C:\\Users\\Tony\\Desktop\\projects\\Object Detection\\TFODCourse\\Tensorflow\\workspace\\images\\collectedimages\\thankyou\\thankyou.dd039e87-72b2-11ec-b1aa-744ca15d3c0c.jpg -> Annotation:C:/Users/Tony/Desktop/projects/Object Detection/TFODCourse/Tensorflow/workspace/images/collectedimages/thankyou/thankyou.dd039e87-72b2-11ec-b1aa-744ca15d3c0c.xml\n",
      "Cancel creation.\n",
      "Cancel creation.\n",
      "Cancel creation.\n",
      "Cancel creation.\n",
      "Cancel creation.\n",
      "Cancel creation.\n",
      "Cancel creation.\n",
      "Cancel creation.\n",
      "Cancel creation.\n",
      "Cancel creation.\n",
      "Cancel creation.\n",
      "Image:C:\\Users\\Tony\\Desktop\\projects\\Object Detection\\TFODCourse\\Tensorflow\\workspace\\images\\collectedimages\\thankyou\\thankyou.de38d749-72b2-11ec-a180-744ca15d3c0c.jpg -> Annotation:C:/Users/Tony/Desktop/projects/Object Detection/TFODCourse/Tensorflow/workspace/images/collectedimages/thankyou/thankyou.de38d749-72b2-11ec-a180-744ca15d3c0c.xml\n",
      "Image:C:\\Users\\Tony\\Desktop\\projects\\Object Detection\\TFODCourse\\Tensorflow\\workspace\\images\\collectedimages\\thankyou\\thankyou.df6d9f36-72b2-11ec-a68c-744ca15d3c0c.jpg -> Annotation:C:/Users/Tony/Desktop/projects/Object Detection/TFODCourse/Tensorflow/workspace/images/collectedimages/thankyou/thankyou.df6d9f36-72b2-11ec-a68c-744ca15d3c0c.xml\n",
      "Image:C:\\Users\\Tony\\Desktop\\projects\\Object Detection\\TFODCourse\\Tensorflow\\workspace\\images\\collectedimages\\thankyou\\thankyou.e0a3c7c5-72b2-11ec-a6e6-744ca15d3c0c.jpg -> Annotation:C:/Users/Tony/Desktop/projects/Object Detection/TFODCourse/Tensorflow/workspace/images/collectedimages/thankyou/thankyou.e0a3c7c5-72b2-11ec-a6e6-744ca15d3c0c.xml\n",
      "Image:C:\\Users\\Tony\\Desktop\\projects\\Object Detection\\TFODCourse\\Tensorflow\\workspace\\images\\collectedimages\\thankyou\\thankyou.e1d9d604-72b2-11ec-9721-744ca15d3c0c.jpg -> Annotation:C:/Users/Tony/Desktop/projects/Object Detection/TFODCourse/Tensorflow/workspace/images/collectedimages/thankyou/thankyou.e1d9d604-72b2-11ec-9721-744ca15d3c0c.xml\n",
      "Image:C:\\Users\\Tony\\Desktop\\projects\\Object Detection\\TFODCourse\\Tensorflow\\workspace\\images\\collectedimages\\thumbsdown\\thumbsdown.d2c2b97b-72b2-11ec-bdc7-744ca15d3c0c.jpg -> Annotation:C:/Users/Tony/Desktop/projects/Object Detection/TFODCourse/Tensorflow/workspace/images/collectedimages/thumbsdown/thumbsdown.d2c2b97b-72b2-11ec-bdc7-744ca15d3c0c.xml\n",
      "Cancel creation.\n",
      "Cancel creation.\n",
      "Image:C:\\Users\\Tony\\Desktop\\projects\\Object Detection\\TFODCourse\\Tensorflow\\workspace\\images\\collectedimages\\thumbsdown\\thumbsdown.d3f88c9a-72b2-11ec-a9e3-744ca15d3c0c.jpg -> Annotation:C:/Users/Tony/Desktop/projects/Object Detection/TFODCourse/Tensorflow/workspace/images/collectedimages/thumbsdown/thumbsdown.d3f88c9a-72b2-11ec-a9e3-744ca15d3c0c.xml\n",
      "Image:C:\\Users\\Tony\\Desktop\\projects\\Object Detection\\TFODCourse\\Tensorflow\\workspace\\images\\collectedimages\\thumbsdown\\thumbsdown.d52b66b9-72b2-11ec-9550-744ca15d3c0c.jpg -> Annotation:C:/Users/Tony/Desktop/projects/Object Detection/TFODCourse/Tensorflow/workspace/images/collectedimages/thumbsdown/thumbsdown.d52b66b9-72b2-11ec-9550-744ca15d3c0c.xml\n",
      "Image:C:\\Users\\Tony\\Desktop\\projects\\Object Detection\\TFODCourse\\Tensorflow\\workspace\\images\\collectedimages\\thumbsdown\\thumbsdown.d6614ef6-72b2-11ec-87b5-744ca15d3c0c.jpg -> Annotation:C:/Users/Tony/Desktop/projects/Object Detection/TFODCourse/Tensorflow/workspace/images/collectedimages/thumbsdown/thumbsdown.d6614ef6-72b2-11ec-87b5-744ca15d3c0c.xml\n",
      "Image:C:\\Users\\Tony\\Desktop\\projects\\Object Detection\\TFODCourse\\Tensorflow\\workspace\\images\\collectedimages\\thumbsdown\\thumbsdown.d7970cf8-72b2-11ec-b092-744ca15d3c0c.jpg -> Annotation:C:/Users/Tony/Desktop/projects/Object Detection/TFODCourse/Tensorflow/workspace/images/collectedimages/thumbsdown/thumbsdown.d7970cf8-72b2-11ec-b092-744ca15d3c0c.xml\n",
      "Image:C:\\Users\\Tony\\Desktop\\projects\\Object Detection\\TFODCourse\\Tensorflow\\workspace\\images\\collectedimages\\thumbsup\\thumbsup.c9bba273-72b2-11ec-b926-744ca15d3c0c.jpg -> Annotation:C:/Users/Tony/Desktop/projects/Object Detection/TFODCourse/Tensorflow/workspace/images/collectedimages/thumbsup/thumbsup.c9bba273-72b2-11ec-b926-744ca15d3c0c.xml\n",
      "Image:C:\\Users\\Tony\\Desktop\\projects\\Object Detection\\TFODCourse\\Tensorflow\\workspace\\images\\collectedimages\\thumbsup\\thumbsup.c881e9c9-72b2-11ec-ac01-744ca15d3c0c.jpg -> Annotation:C:/Users/Tony/Desktop/projects/Object Detection/TFODCourse/Tensorflow/workspace/images/collectedimages/thumbsup/thumbsup.c881e9c9-72b2-11ec-ac01-744ca15d3c0c.xml\n",
      "Image:C:\\Users\\Tony\\Desktop\\projects\\Object Detection\\TFODCourse\\Tensorflow\\workspace\\images\\collectedimages\\thumbsup\\thumbsup.caefb54f-72b2-11ec-a870-744ca15d3c0c.jpg -> Annotation:C:/Users/Tony/Desktop/projects/Object Detection/TFODCourse/Tensorflow/workspace/images/collectedimages/thumbsup/thumbsup.caefb54f-72b2-11ec-a870-744ca15d3c0c.xml\n",
      "Image:C:\\Users\\Tony\\Desktop\\projects\\Object Detection\\TFODCourse\\Tensorflow\\workspace\\images\\collectedimages\\thumbsup\\thumbsup.cc246539-72b2-11ec-8aec-744ca15d3c0c.jpg -> Annotation:C:/Users/Tony/Desktop/projects/Object Detection/TFODCourse/Tensorflow/workspace/images/collectedimages/thumbsup/thumbsup.cc246539-72b2-11ec-8aec-744ca15d3c0c.xml\n",
      "Image:C:\\Users\\Tony\\Desktop\\projects\\Object Detection\\TFODCourse\\Tensorflow\\workspace\\images\\collectedimages\\thumbsup\\thumbsup.cd578e25-72b2-11ec-bc56-744ca15d3c0c.jpg -> Annotation:C:/Users/Tony/Desktop/projects/Object Detection/TFODCourse/Tensorflow/workspace/images/collectedimages/thumbsup/thumbsup.cd578e25-72b2-11ec-bc56-744ca15d3c0c.xml\n"
     ]
    }
   ],
   "source": [
    "!cd {LABELIMG_PATH} && python labelImg.py"
   ]
  },
  {
   "cell_type": "markdown",
   "metadata": {},
   "source": [
    "# 6. Move them into a Training and Testing Partition"
   ]
  },
  {
   "cell_type": "markdown",
   "metadata": {},
   "source": [
    "# OPTIONAL - 7. Compress them for Colab Training"
   ]
  },
  {
   "cell_type": "code",
   "execution_count": 20,
   "metadata": {},
   "outputs": [],
   "source": [
    "TRAIN_PATH = os.path.join('Tensorflow', 'workspace', 'images', 'train')\n",
    "TEST_PATH = os.path.join('Tensorflow', 'workspace', 'images', 'test')\n",
    "ARCHIVE_PATH = os.path.join('Tensorflow', 'workspace', 'images', 'archive.tar.gz')"
   ]
  },
  {
   "cell_type": "code",
   "execution_count": 21,
   "metadata": {},
   "outputs": [],
   "source": [
    "!tar -czf {ARCHIVE_PATH} {TRAIN_PATH} {TEST_PATH}"
   ]
  },
  {
   "cell_type": "code",
   "execution_count": null,
   "metadata": {},
   "outputs": [],
   "source": []
  }
 ],
 "metadata": {
  "kernelspec": {
   "display_name": "tfod",
   "language": "python",
   "name": "tfod"
  },
  "language_info": {
   "codemirror_mode": {
    "name": "ipython",
    "version": 3
   },
   "file_extension": ".py",
   "mimetype": "text/x-python",
   "name": "python",
   "nbconvert_exporter": "python",
   "pygments_lexer": "ipython3",
   "version": "3.9.9"
  }
 },
 "nbformat": 4,
 "nbformat_minor": 2
}
